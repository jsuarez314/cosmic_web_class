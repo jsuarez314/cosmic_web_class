{
 "cells": [
  {
   "cell_type": "code",
   "execution_count": 2,
   "id": "367b2fe1-389a-4505-8f29-e8ccd6a8bfc6",
   "metadata": {},
   "outputs": [],
   "source": [
    "import h5py\n",
    "import numpy as np\n",
    "import pylab as pl\n",
    "from sklearn.preprocessing import StandardScaler\n",
    "\n",
    "from sklearn.cluster import KMeans\n",
    "import seaborn as sns\n",
    "import pandas as pd"
   ]
  },
  {
   "cell_type": "code",
   "execution_count": 3,
   "id": "2e16def9-cf8a-484b-8b0a-10e27751d6c6",
   "metadata": {},
   "outputs": [
    {
     "data": {
      "text/plain": [
       "<KeysViewHDF5 ['Subhalo_StellarPhot_p07c_cf00dust_res_conv_ns1_rad30pkpc', 'subhaloIDs']>"
      ]
     },
     "execution_count": 3,
     "metadata": {},
     "output_type": "execute_result"
    }
   ],
   "source": [
    "f = h5py.File('../data/TNG100-1/Subhalos_Features/Subhalo_StellarPhot_p07c_cf00dust_res_conv_ns1_rad30pkpc_084.hdf5','r')\n",
    "f.keys()"
   ]
  },
  {
   "cell_type": "code",
   "execution_count": 4,
   "id": "8fe90f72-df4b-45e2-9653-3dc0e3debbd8",
   "metadata": {},
   "outputs": [
    {
     "data": {
      "text/plain": [
       "array([      0,       1,       2, ..., 4527124, 4527125, 4527126],\n",
       "      dtype=int32)"
      ]
     },
     "execution_count": 4,
     "metadata": {},
     "output_type": "execute_result"
    }
   ],
   "source": [
    "stellar_phot_ids = f['subhaloIDs'][:]\n",
    "stellar_phot_ids"
   ]
  },
  {
   "cell_type": "code",
   "execution_count": 5,
   "id": "0d87640c-bec7-48e6-bcf1-d413106931e9",
   "metadata": {},
   "outputs": [
    {
     "data": {
      "text/plain": [
       "<HDF5 dataset \"Subhalo_StellarPhot_p07c_cf00dust_res_conv_ns1_rad30pkpc\": shape (4527127, 8, 12), type \"<f4\">"
      ]
     },
     "execution_count": 5,
     "metadata": {},
     "output_type": "execute_result"
    }
   ],
   "source": [
    "f['Subhalo_StellarPhot_p07c_cf00dust_res_conv_ns1_rad30pkpc']"
   ]
  },
  {
   "cell_type": "code",
   "execution_count": 6,
   "id": "213ad2b6-b323-4321-86ec-b27c4f6120e2",
   "metadata": {},
   "outputs": [],
   "source": [
    "Mu = f['Subhalo_StellarPhot_p07c_cf00dust_res_conv_ns1_rad30pkpc'][:,0,0]\n",
    "Mg = f['Subhalo_StellarPhot_p07c_cf00dust_res_conv_ns1_rad30pkpc'][:,1,0]\n",
    "Mr = f['Subhalo_StellarPhot_p07c_cf00dust_res_conv_ns1_rad30pkpc'][:,2,0]\n",
    "Mi = f['Subhalo_StellarPhot_p07c_cf00dust_res_conv_ns1_rad30pkpc'][:,3,0]\n",
    "Mz = f['Subhalo_StellarPhot_p07c_cf00dust_res_conv_ns1_rad30pkpc'][:,4,0]\n",
    "f.close()"
   ]
  },
  {
   "cell_type": "code",
   "execution_count": 7,
   "id": "0acff9ad-dfa8-4d45-b565-1fafe7c2b571",
   "metadata": {},
   "outputs": [
    {
     "data": {
      "text/html": [
       "<div>\n",
       "<style scoped>\n",
       "    .dataframe tbody tr th:only-of-type {\n",
       "        vertical-align: middle;\n",
       "    }\n",
       "\n",
       "    .dataframe tbody tr th {\n",
       "        vertical-align: top;\n",
       "    }\n",
       "\n",
       "    .dataframe thead th {\n",
       "        text-align: right;\n",
       "    }\n",
       "</style>\n",
       "<table border=\"1\" class=\"dataframe\">\n",
       "  <thead>\n",
       "    <tr style=\"text-align: right;\">\n",
       "      <th></th>\n",
       "      <th>ID</th>\n",
       "      <th>sdss_Mu</th>\n",
       "      <th>sdss_Mg</th>\n",
       "      <th>sdss_Mr</th>\n",
       "      <th>sdss_Mi</th>\n",
       "      <th>sdss_Mz</th>\n",
       "    </tr>\n",
       "  </thead>\n",
       "  <tbody>\n",
       "    <tr>\n",
       "      <th>0</th>\n",
       "      <td>0.0</td>\n",
       "      <td>-19.918682</td>\n",
       "      <td>-21.427780</td>\n",
       "      <td>-22.115793</td>\n",
       "      <td>-22.478964</td>\n",
       "      <td>-22.796307</td>\n",
       "    </tr>\n",
       "    <tr>\n",
       "      <th>1</th>\n",
       "      <td>1.0</td>\n",
       "      <td>-20.797749</td>\n",
       "      <td>-22.592024</td>\n",
       "      <td>-23.387402</td>\n",
       "      <td>-23.785805</td>\n",
       "      <td>-24.137964</td>\n",
       "    </tr>\n",
       "    <tr>\n",
       "      <th>2</th>\n",
       "      <td>2.0</td>\n",
       "      <td>-21.605118</td>\n",
       "      <td>-22.969065</td>\n",
       "      <td>-23.532661</td>\n",
       "      <td>-23.849113</td>\n",
       "      <td>-24.145828</td>\n",
       "    </tr>\n",
       "    <tr>\n",
       "      <th>3</th>\n",
       "      <td>3.0</td>\n",
       "      <td>-20.388245</td>\n",
       "      <td>-21.703148</td>\n",
       "      <td>-22.265253</td>\n",
       "      <td>-22.584154</td>\n",
       "      <td>-22.873615</td>\n",
       "    </tr>\n",
       "    <tr>\n",
       "      <th>4</th>\n",
       "      <td>4.0</td>\n",
       "      <td>-19.744356</td>\n",
       "      <td>-21.458693</td>\n",
       "      <td>-22.222290</td>\n",
       "      <td>-22.607536</td>\n",
       "      <td>-22.939856</td>\n",
       "    </tr>\n",
       "    <tr>\n",
       "      <th>...</th>\n",
       "      <td>...</td>\n",
       "      <td>...</td>\n",
       "      <td>...</td>\n",
       "      <td>...</td>\n",
       "      <td>...</td>\n",
       "      <td>...</td>\n",
       "    </tr>\n",
       "    <tr>\n",
       "      <th>4490245</th>\n",
       "      <td>4490245.0</td>\n",
       "      <td>-7.376702</td>\n",
       "      <td>-8.596647</td>\n",
       "      <td>-9.148641</td>\n",
       "      <td>-9.423900</td>\n",
       "      <td>-9.556947</td>\n",
       "    </tr>\n",
       "    <tr>\n",
       "      <th>4493007</th>\n",
       "      <td>4493007.0</td>\n",
       "      <td>-7.929919</td>\n",
       "      <td>-9.245331</td>\n",
       "      <td>-9.829266</td>\n",
       "      <td>-10.115916</td>\n",
       "      <td>-10.286570</td>\n",
       "    </tr>\n",
       "    <tr>\n",
       "      <th>4514472</th>\n",
       "      <td>4514472.0</td>\n",
       "      <td>-8.059139</td>\n",
       "      <td>-9.316813</td>\n",
       "      <td>-9.870451</td>\n",
       "      <td>-10.172428</td>\n",
       "      <td>-10.342423</td>\n",
       "    </tr>\n",
       "    <tr>\n",
       "      <th>4520126</th>\n",
       "      <td>4520126.0</td>\n",
       "      <td>-7.635355</td>\n",
       "      <td>-9.033590</td>\n",
       "      <td>-9.685241</td>\n",
       "      <td>-10.004305</td>\n",
       "      <td>-10.200866</td>\n",
       "    </tr>\n",
       "    <tr>\n",
       "      <th>4522172</th>\n",
       "      <td>4522172.0</td>\n",
       "      <td>-7.632993</td>\n",
       "      <td>-8.936231</td>\n",
       "      <td>-9.536293</td>\n",
       "      <td>-9.852324</td>\n",
       "      <td>-10.034994</td>\n",
       "    </tr>\n",
       "  </tbody>\n",
       "</table>\n",
       "<p>364516 rows × 6 columns</p>\n",
       "</div>"
      ],
      "text/plain": [
       "                ID    sdss_Mu    sdss_Mg    sdss_Mr    sdss_Mi    sdss_Mz\n",
       "0              0.0 -19.918682 -21.427780 -22.115793 -22.478964 -22.796307\n",
       "1              1.0 -20.797749 -22.592024 -23.387402 -23.785805 -24.137964\n",
       "2              2.0 -21.605118 -22.969065 -23.532661 -23.849113 -24.145828\n",
       "3              3.0 -20.388245 -21.703148 -22.265253 -22.584154 -22.873615\n",
       "4              4.0 -19.744356 -21.458693 -22.222290 -22.607536 -22.939856\n",
       "...            ...        ...        ...        ...        ...        ...\n",
       "4490245  4490245.0  -7.376702  -8.596647  -9.148641  -9.423900  -9.556947\n",
       "4493007  4493007.0  -7.929919  -9.245331  -9.829266 -10.115916 -10.286570\n",
       "4514472  4514472.0  -8.059139  -9.316813  -9.870451 -10.172428 -10.342423\n",
       "4520126  4520126.0  -7.635355  -9.033590  -9.685241 -10.004305 -10.200866\n",
       "4522172  4522172.0  -7.632993  -8.936231  -9.536293  -9.852324 -10.034994\n",
       "\n",
       "[364516 rows x 6 columns]"
      ]
     },
     "execution_count": 7,
     "metadata": {},
     "output_type": "execute_result"
    }
   ],
   "source": [
    "stellar_phot_df = pd.DataFrame(np.c_[stellar_phot_ids, Mu, Mg, Mr, Mi, Mz], columns=['ID','sdss_Mu','sdss_Mg','sdss_Mr','sdss_Mi','sdss_Mz'])\n",
    "stellar_phot_df = stellar_phot_df.dropna()\n",
    "stellar_phot_df"
   ]
  },
  {
   "cell_type": "code",
   "execution_count": 8,
   "id": "426cdfac-2ab4-4336-bcea-54ac1f3680a2",
   "metadata": {},
   "outputs": [],
   "source": [
    "# stellar_phot_df = stellar_phot_df[stellar_phot_df['sdss_Mr'] > -21]\n",
    "# stellar_phot_df = stellar_phot_df[stellar_phot_df['sdss_Mr'] < -19]"
   ]
  },
  {
   "cell_type": "code",
   "execution_count": 9,
   "id": "5b783325-e4ff-4e97-88d4-cb63138cc7ed",
   "metadata": {},
   "outputs": [
    {
     "data": {
      "image/png": "[encoded data removed]",
      "text/plain": [
       "<Figure size 432x288 with 1 Axes>"
      ]
     },
     "metadata": {
      "needs_background": "light"
     },
     "output_type": "display_data"
    }
   ],
   "source": [
    "_ = pl.hist(stellar_phot_df['sdss_Mg'], bins=np.arange(-25,-15, 0.05), histtype='step')\n",
    "pl.yscale('log')"
   ]
  },
  {
   "cell_type": "code",
   "execution_count": 10,
   "id": "e95036d8-343e-496b-b77e-2a673314d007",
   "metadata": {},
   "outputs": [
    {
     "data": {
      "text/plain": [
       "10.613525880894118"
      ]
     },
     "execution_count": 10,
     "metadata": {},
     "output_type": "execute_result"
    }
   ],
   "source": [
    "100*np.mean(stellar_phot_df['sdss_Mg']<-16)"
   ]
  },
  {
   "cell_type": "code",
   "execution_count": 21,
   "id": "c9952124-85a7-4f0c-8720-c4931e172bde",
   "metadata": {},
   "outputs": [
    {
     "data": {
      "text/plain": [
       "Text(0.5, 0, '$M_g-M_r$')"
      ]
     },
     "execution_count": 21,
     "metadata": {},
     "output_type": "execute_result"
    },
    {
     "data": {
      "image/png": "[encoded data removed]",
      "text/plain": [
       "<Figure size 720x288 with 1 Axes>"
      ]
     },
     "metadata": {
      "needs_background": "light"
     },
     "output_type": "display_data"
    }
   ],
   "source": [
    "cuts = [-23,-21,-19,-17,-15]\n",
    "fig = pl.figure(figsize=(10,4))\n",
    "for i in range(len(cuts)-1):\n",
    "    ii = (stellar_phot_df['sdss_Mr']>cuts[i]) & (stellar_phot_df['sdss_Mr']<cuts[i+1])\n",
    "    _ = pl.hist(stellar_phot_df['sdss_Mg'][ii]-stellar_phot_df['sdss_Mr'][ii], bins=np.arange(-0.2, 1.0, 0.05), histtype='step', label=f'{cuts[i]}<Mr<{cuts[i+1]}', density=True)\n",
    "pl.legend(loc=2)    \n",
    "pl.axvline(0.6, c='k', lw=0.5)\n",
    "pl.xlabel(r'$M_g-M_r$')\n",
    "# pl.ylim(0, 2000)"
   ]
  },
  {
   "cell_type": "code",
   "execution_count": 12,
   "id": "4acaed6e-e937-47d4-9b1a-39be376c97a3",
   "metadata": {},
   "outputs": [
    {
     "data": {
      "image/png": "[encoded data removed]",
      "text/plain": [
       "<Figure size 432x288 with 1 Axes>"
      ]
     },
     "metadata": {
      "needs_background": "light"
     },
     "output_type": "display_data"
    }
   ],
   "source": [
    "ii = (stellar_phot_df['sdss_Mr']>-21) & (stellar_phot_df['sdss_Mr']<-19)\n",
    "_ = pl.hist(stellar_phot_df['sdss_Mg'][ii]-stellar_phot_df['sdss_Mr'][ii], bins=np.arange(-0.2, 1.0, 0.05), histtype='step')"
   ]
  },
  {
   "cell_type": "code",
   "execution_count": 13,
   "id": "64a79c91-fb54-463b-aefe-7ca0281ac897",
   "metadata": {},
   "outputs": [
    {
     "data": {
      "text/plain": [
       "81.31010295282272"
      ]
     },
     "execution_count": 13,
     "metadata": {},
     "output_type": "execute_result"
    }
   ],
   "source": [
    "100*np.mean((stellar_phot_df['sdss_Mg'][ii] - stellar_phot_df['sdss_Mr'][ii])<0.6)"
   ]
  },
  {
   "cell_type": "code",
   "execution_count": 14,
   "id": "a506cc34-bc90-4c26-a2d2-f95fdfe95033",
   "metadata": {},
   "outputs": [
    {
     "data": {
      "text/plain": [
       "(304817, 59699)"
      ]
     },
     "execution_count": 14,
     "metadata": {},
     "output_type": "execute_result"
    }
   ],
   "source": [
    "galaxy_class = np.zeros(len(stellar_phot_df))\n",
    "galaxy_class[(stellar_phot_df['sdss_Mg']-stellar_phot_df['sdss_Mr'])<0.6] = 0 # Blue Galaxies\n",
    "galaxy_class[(stellar_phot_df['sdss_Mg']-stellar_phot_df['sdss_Mr'])>=0.6] = 1 # Red Galaxies\n",
    "\n",
    "sum(galaxy_class ==0), sum(galaxy_class ==1)"
   ]
  },
  {
   "cell_type": "code",
   "execution_count": 14,
   "id": "93c861d3-daf6-4c40-8334-dc003fc680ea",
   "metadata": {},
   "outputs": [
    {
     "data": {
      "image/png": "[encoded data removed]",
      "text/plain": [
       "<Figure size 432x288 with 1 Axes>"
      ]
     },
     "metadata": {
      "needs_background": "light"
     },
     "output_type": "display_data"
    }
   ],
   "source": [
    "_ = pl.hist(galaxy_class)"
   ]
  },
  {
   "cell_type": "code",
   "execution_count": 15,
   "id": "885f9a60-7652-4e9c-8735-0d8cd6ad4e43",
   "metadata": {},
   "outputs": [],
   "source": [
    "stellar_phot_df['galaxy_class'] = galaxy_class\n",
    "stellar_phot_df.to_csv('./data/stellar_sdss_phot.csv')"
   ]
  },
  {
   "cell_type": "code",
   "execution_count": 16,
   "id": "cb54a962-727b-4b3a-8468-a05f8fd8fa0b",
   "metadata": {},
   "outputs": [],
   "source": [
    "# data_scaled =  StandardScaler().fit_transform(stellar_phot_df[::100].drop(['ID'],axis=1))\n",
    "# np.shape(data_scaled)"
   ]
  },
  {
   "cell_type": "code",
   "execution_count": 17,
   "id": "9b39dc73-eb0d-4c5d-a8ad-dec08e6e34c8",
   "metadata": {},
   "outputs": [],
   "source": [
    "# metrics = ['euclidean','cosine','braycurtis']\n",
    "# n_neighbors = [5,10,15,20]\n",
    "# min_dists = [0.5,0.1,0.0]\n",
    "\n",
    "# normal_embeddings = np.zeros((len(n_neighbors), len(min_dist), len(data_scaled), 2))\n",
    "# precomputed_knn_embeddings = np.zeros((len(n_neighbors), len(min_dist), len(data_scaled), 2))"
   ]
  },
  {
   "cell_type": "code",
   "execution_count": 18,
   "id": "6691e1d7-a20a-4bf2-ac7e-deaf19868edd",
   "metadata": {},
   "outputs": [],
   "source": [
    "# for i, nn in enumerate(n_neighbors):\n",
    "#     for j, dist in enumerate(min_dists):\n",
    "#         normal_embeddings[i, j] = umap.UMAP(n_neighbors=nn, min_dist=dist).fit_transform(data_scaled)"
   ]
  },
  {
   "cell_type": "code",
   "execution_count": 19,
   "id": "533d072e-b99e-4355-bc07-27035fa2d530",
   "metadata": {},
   "outputs": [],
   "source": [
    "# mnist_knn = nearest_neighbors(data_scaled,\n",
    "#                               n_neighbors=250,\n",
    "#                               metric=\"euclidean\",\n",
    "#                               metric_kwds=None,\n",
    "#                               angular=False,\n",
    "#                               random_state=None,\n",
    "#                              )\n",
    "\n",
    "# for i, nn in enumerate(n_neighbors):\n",
    "#     for j, dist in enumerate(min_dists):\n",
    "#         precomputed_knn_embeddings[i, j] = umap.UMAP(n_neighbors=nn,\n",
    "#                                                       min_dist=dist,\n",
    "#                                                       precomputed_knn=mnist_knn,\n",
    "#                                                       ).fit_transform(data_scaled)"
   ]
  },
  {
   "cell_type": "code",
   "execution_count": 20,
   "id": "8da8daee-f371-48f5-9cb0-b2c4ea0105d1",
   "metadata": {},
   "outputs": [],
   "source": [
    "# f = h5py.File('../data/TNG100-1/Subhalos_Features/morphologies_deeplearn.hdf5','r')\n",
    "# f.keys()"
   ]
  },
  {
   "cell_type": "code",
   "execution_count": 21,
   "id": "2ffbbc1c-4000-41f6-95cd-045b8c9e6733",
   "metadata": {},
   "outputs": [],
   "source": [
    "# morphologies_ids = f['Snapshot_99']['SubhaloID'][:]\n",
    "# morphologies_ids"
   ]
  },
  {
   "cell_type": "code",
   "execution_count": 22,
   "id": "758a2327-838e-4f83-8983-126072074d4b",
   "metadata": {},
   "outputs": [],
   "source": [
    "# P_Late = f['Snapshot_99']['P_Late'][:]\n",
    "# P_S0 = f['Snapshot_99']['P_S0'][:]\n",
    "# P_Sab = f['Snapshot_99']['P_Sab'][:]\n",
    "# Sigma_Late = f['Snapshot_99']['Sigma_Late'][:]\n",
    "# Sigma_S0 = f['Snapshot_99']['Sigma_S0'][:]\n",
    "# Sigma_Sab = f['Snapshot_99']['Sigma_Sab'][:]\n",
    "# f.close()"
   ]
  },
  {
   "cell_type": "code",
   "execution_count": 23,
   "id": "767a13ee-2043-4404-935a-012aa14c7d4d",
   "metadata": {},
   "outputs": [],
   "source": [
    "# morphologies_df = pd.DataFrame( np.c_[morphologies_ids, P_Late, P_S0, P_Sab, Sigma_Late, Sigma_S0, Sigma_Sab], columns=['ID','P_Late','P_S0','P_Sab','Sigma_Late','Sigma_S0','Sigma_Sab'] )\n",
    "# morphologies_df = morphologies_df.dropna()\n",
    "# morphologies_df"
   ]
  },
  {
   "cell_type": "code",
   "execution_count": 24,
   "id": "bf55e36c-f827-41b1-b5dd-987fdb2f6843",
   "metadata": {},
   "outputs": [],
   "source": [
    "# morphologies_df.to_csv('./data/morphologies.csv')"
   ]
  },
  {
   "cell_type": "code",
   "execution_count": 25,
   "id": "076fb83f-fa08-41e1-8407-9c57d014fbcb",
   "metadata": {},
   "outputs": [],
   "source": [
    "# data_scaled =  StandardScaler().fit_transform(morphologies_df.drop(['ID'],axis=1))\n",
    "# np.shape(data_scaled)\n",
    "# metrics = ['euclidean','cosine','braycurtis']\n",
    "# n_neighbors = [5,10,15,20]\n",
    "# min_dist = [0.5,0.1,0.0]\n",
    "\n",
    "# metrics = ['cosine']\n",
    "# n_neighbors = [5]\n",
    "# min_dist = [0.5]\n",
    "\n",
    "# for md in min_dist:\n",
    "#     for nn in n_neighbors:\n",
    "#         for me in metrics:\n",
    "#             model = umap.UMAP(metric=me, n_neighbors=nn, min_dist=md)\n",
    "#             embedding = model.fit_transform(data_scaled)\n",
    "#             df = pd.DataFrame( embedding, columns=['X_UMAP','Y_UMAP'] )\n",
    "#             df.to_csv(f'./data/reduced/UMAP_morpho_nn{nn}_md{md}_{me}.csv')"
   ]
  },
  {
   "cell_type": "code",
   "execution_count": 26,
   "id": "991c8e82-dcee-4299-8c53-16b6c71c6817",
   "metadata": {},
   "outputs": [],
   "source": [
    "# stellar_phot_and_morphologies = pd.merge(stellar_phot_df, morphologies_df, on='ID')\n",
    "# stellar_phot_and_morphologies"
   ]
  },
  {
   "cell_type": "code",
   "execution_count": 27,
   "id": "52087c99-b4a6-4bbb-bcdd-211f72967c00",
   "metadata": {},
   "outputs": [],
   "source": [
    "# stellar_phot_and_morphologies.to_csv('./data/stellar_phot_and_morphologies.csv')"
   ]
  },
  {
   "cell_type": "code",
   "execution_count": 28,
   "id": "452957e9-be3f-48ca-a925-a6222e9d8e8b",
   "metadata": {},
   "outputs": [],
   "source": [
    "# data_scaled =  StandardScaler().fit_transform(stellar_phot_and_morphologies.drop(['ID'],axis=1))\n",
    "# np.shape(data_scaled)\n",
    "# metrics = ['euclidean','cosine','braycurtis']\n",
    "# n_neighbors = [5,10,15,20]\n",
    "# min_dist = [0.5,0.1,0.0]\n",
    "\n",
    "# metrics = ['cosine']\n",
    "# n_neighbors = [5]\n",
    "# min_dist = [0.5]\n",
    "\n",
    "# for md in min_dist:\n",
    "#     for nn in n_neighbors:\n",
    "#         for me in metrics:\n",
    "#             model = umap.UMAP(metric=me, n_neighbors=nn, min_dist=md)\n",
    "#             embedding = model.fit_transform(data_scaled)\n",
    "#             df = pd.DataFrame( embedding, columns=['X_UMAP','Y_UMAP'] )\n",
    "#             df.to_csv(f'./data/reduced/UMAP_sphotandmorpho_nn{nn}_md{md}_{me}.csv')"
   ]
  },
  {
   "cell_type": "code",
   "execution_count": 29,
   "id": "8f91016a-5601-4347-988e-283ff346af38",
   "metadata": {},
   "outputs": [],
   "source": [
    "# km = KMeans(n_clusters=4, max_iter=500, n_init=30, random_state=1).fit(embedding)\n",
    "# km.labels_\n",
    "# pl.scatter(embedding[:,0], embedding[:,1], c=km.labels_)\n",
    "# pl.colorbar()"
   ]
  }
 ],
 "metadata": {
  "kernelspec": {
   "display_name": "DESI 22.2",
   "language": "python",
   "name": "desi-22.2"
  },
  "language_info": {
   "codemirror_mode": {
    "name": "ipython",
    "version": 3
   },
   "file_extension": ".py",
   "mimetype": "text/x-python",
   "name": "python",
   "nbconvert_exporter": "python",
   "pygments_lexer": "ipython3",
   "version": "3.9.7"
  }
 },
 "nbformat": 4,
 "nbformat_minor": 5
}
