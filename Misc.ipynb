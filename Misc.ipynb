{
 "cells": [
  {
   "cell_type": "code",
   "execution_count": 1,
   "id": "66e5e8a8-a31e-46e9-80bf-b7c9b1bf714b",
   "metadata": {},
   "outputs": [],
   "source": [
    "import numpy as np\n",
    "from tqdm.notebook import tqdm\n",
    "import matplotlib.pyplot as plt"
   ]
  },
  {
   "cell_type": "code",
   "execution_count": 2,
   "id": "387a41ab-1cec-428d-a0f4-4acfa3360905",
   "metadata": {},
   "outputs": [],
   "source": [
    "pos = np.loadtxt('./data/TracingTheCosmicWeb_PublicData/fof_catalog_200Mpc512.txt', skiprows=3)\n",
    "N_real = len(pos)\n",
    "pos = pos[:N_real,[1,2,3]]"
   ]
  },
  {
   "cell_type": "code",
   "execution_count": 3,
   "id": "6e611679-e685-43e7-b3a2-31026212f02e",
   "metadata": {},
   "outputs": [],
   "source": [
    "ids = np.loadtxt('./data/pos_real.BSKIndex', dtype=int)"
   ]
  },
  {
   "cell_type": "code",
   "execution_count": 4,
   "id": "413eaa72-a5e8-4fa5-9ed5-80c32dd0d8e1",
   "metadata": {},
   "outputs": [],
   "source": [
    "# List of connections ids\n",
    "a = ids[:,0]\n",
    "b = ids[:,1]"
   ]
  },
  {
   "cell_type": "code",
   "execution_count": 60,
   "id": "68127396-08bc-4d0e-8e6e-0e2e8ad9bc3e",
   "metadata": {},
   "outputs": [
    {
     "data": {
      "application/vnd.jupyter.widget-view+json": {
       "model_id": "7d7e35974abc4ed2b607e89912d4b6f8",
       "version_major": 2,
       "version_minor": 0
      },
      "text/plain": [
       "  0%|          | 0/281465 [00:00<?, ?it/s]"
      ]
     },
     "metadata": {},
     "output_type": "display_data"
    },
    {
     "name": "stderr",
     "output_type": "stream",
     "text": [
      "<timed exec>:18: RuntimeWarning: invalid value encountered in double_scalars\n"
     ]
    },
    {
     "name": "stdout",
     "output_type": "stream",
     "text": [
      "CPU times: user 2 s, sys: 11.8 ms, total: 2.01 s\n",
      "Wall time: 2 s\n"
     ]
    }
   ],
   "source": [
    "%%time\n",
    "\n",
    "# Compute the number of connections and the average lenght\n",
    "ID = np.zeros(N_real, dtype=int)\n",
    "n_connections = np.zeros(N_real, dtype=int)\n",
    "connections   = np.zeros(N_real, dtype=object)\n",
    "av_length_connections = np.zeros(N_real, dtype=float)\n",
    "pseudo_density = np.zeros(N_real, dtype=float)\n",
    "\n",
    "distance_pairs =np.sum( (pos[a] - pos[b])**2, axis=1 )\n",
    "\n",
    "pbar = tqdm(total=N_real)\n",
    "for n in range(1000):#N_real):\n",
    "    kx = a[b==n]\n",
    "    ky = b[a==n]\n",
    "    \n",
    "    ID[n] = n\n",
    "    n_connections[n]         = len(kx)+len(ky)\n",
    "    connections[n]           = np.concatenate([kx,ky])\n",
    "    av_length_connections[n] = np.sum(distance_pairs[connections[n]])/n_connections[n]\n",
    "    \n",
    "    # Defining the Inertial tensor from\n",
    "\n",
    "    # TODO  remoe repeats\n",
    "    Ixx = np.sum( (pos[:,1][connections[n]] - pos[:,1][n])**2  + (pos[:,2][connections[n]] - pos[:,2][n])**2 )\n",
    "    Iyy = np.sum( (pos[:,2][connections[n]] - pos[:,2][n])**2  + (pos[:,0][connections[n]] - pos[:,0][n])**2 )\n",
    "    Izz = np.sum( (pos[:,0][connections[n]] - pos[:,0][n])**2  + (pos[:,1][connections[n]] - pos[:,1][n])**2 )\n",
    "    Ixy = np.sum( (pos[:,0][connections[n]] - pos[:,0][n])*(pos[:,1][connections[n]] - pos[:,1][n]) )  \n",
    "    Iyz = np.sum( (pos[:,1][connections[n]] - pos[:,1][n])*(pos[:,2][connections[n]] - pos[:,2][n]) )\n",
    "    Ixz = np.sum( (pos[:,0][connections[n]] - pos[:,0][n])*(pos[:,2][connections[n]] - pos[:,2][n]) )\n",
    "    \n",
    "    # Coumputing the Inertial tensor eigenvalues\n",
    "    A = np.array([[Ixx,Ixy,Ixz],[Ixy,Iyy,Iyz],[Ixz,Iyz,Izz]])\n",
    "    eigenvalues, eigenvectors= np.linalg.eig(A)\n",
    "    eigenvalues[(eigenvalues<=0)] = 0.0001\n",
    "    pseudo_density[n]           = np.log( 1/( np.sqrt(eigenvalues[0]).real * np.sqrt(eigenvalues[1]).real * np.sqrt(eigenvalues[2]).real  ) )\n",
    "    \n",
    "    pbar.update()"
   ]
  },
  {
   "cell_type": "code",
   "execution_count": 61,
   "id": "ca258bf5-987f-4104-9aaa-cd5763cec0a6",
   "metadata": {},
   "outputs": [
    {
     "data": {
      "image/png": "[encoded data removed]",
      "text/plain": [
       "<Figure size 432x288 with 1 Axes>"
      ]
     },
     "metadata": {
      "needs_background": "light"
     },
     "output_type": "display_data"
    }
   ],
   "source": [
    "_ = plt.hist(av_length_connections[:1000])"
   ]
  },
  {
   "cell_type": "code",
   "execution_count": 62,
   "id": "4cbd932a-88a1-4391-8b34-43e27dde3acb",
   "metadata": {},
   "outputs": [
    {
     "data": {
      "image/png": "[encoded data removed]",
      "text/plain": [
       "<Figure size 432x288 with 1 Axes>"
      ]
     },
     "metadata": {
      "needs_background": "light"
     },
     "output_type": "display_data"
    }
   ],
   "source": [
    "_ = plt.hist(n_connections[:1000])"
   ]
  },
  {
   "cell_type": "code",
   "execution_count": 63,
   "id": "3249885f-7339-42dd-83fd-9369e97f8511",
   "metadata": {},
   "outputs": [
    {
     "data": {
      "image/png": "[encoded data removed]",
      "text/plain": [
       "<Figure size 432x288 with 1 Axes>"
      ]
     },
     "metadata": {
      "needs_background": "light"
     },
     "output_type": "display_data"
    }
   ],
   "source": [
    "_ = plt.hist( pseudo_density[:1000] )"
   ]
  },
  {
   "cell_type": "code",
   "execution_count": 65,
   "id": "85dbccbd-2922-48a4-b908-5a7bffd2df3d",
   "metadata": {},
   "outputs": [
    {
     "data": {
      "text/plain": [
       "array([0, 0, 0, 0, 0, 0, 0, 0, 0, 0])"
      ]
     },
     "execution_count": 65,
     "metadata": {},
     "output_type": "execute_result"
    }
   ],
   "source": [
    "n_connections[pseudo_density>10]"
   ]
  },
  {
   "cell_type": "code",
   "execution_count": null,
   "id": "9a56ae0a-2cc5-44dd-931a-4f1010b852c6",
   "metadata": {},
   "outputs": [],
   "source": []
  },
  {
   "cell_type": "code",
   "execution_count": null,
   "id": "4a960df4-c3e0-40cd-8487-c0e4a5ea1cef",
   "metadata": {},
   "outputs": [],
   "source": []
  }
 ],
 "metadata": {
  "kernelspec": {
   "display_name": "DESI master",
   "language": "python",
   "name": "desi-master"
  },
  "language_info": {
   "codemirror_mode": {
    "name": "ipython",
    "version": 3
   },
   "file_extension": ".py",
   "mimetype": "text/x-python",
   "name": "python",
   "nbconvert_exporter": "python",
   "pygments_lexer": "ipython3",
   "version": "3.9.7"
  }
 },
 "nbformat": 4,
 "nbformat_minor": 5
}
