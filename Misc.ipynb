{
 "cells": [
  {
   "cell_type": "code",
   "execution_count": 1,
   "id": "66e5e8a8-a31e-46e9-80bf-b7c9b1bf714b",
   "metadata": {},
   "outputs": [],
   "source": [
    "import numpy as np\n",
    "from tqdm.notebook import tqdm\n",
    "import matplotlib.pyplot as plt"
   ]
  },
  {
   "cell_type": "code",
   "execution_count": 2,
   "id": "387a41ab-1cec-428d-a0f4-4acfa3360905",
   "metadata": {},
   "outputs": [],
   "source": [
    "pos = np.loadtxt('./data/TracingTheCosmicWeb_PublicData/fof_catalog_200Mpc512.txt', skiprows=3)\n",
    "N_real = len(pos)\n",
    "pos = pos[:N_real,[1,2,3]]"
   ]
  },
  {
   "cell_type": "code",
   "execution_count": 3,
   "id": "6e611679-e685-43e7-b3a2-31026212f02e",
   "metadata": {},
   "outputs": [],
   "source": [
    "ids = np.loadtxt('./data/pos_real.BSKIndex', dtype=int)"
   ]
  },
  {
   "cell_type": "code",
   "execution_count": 4,
   "id": "413eaa72-a5e8-4fa5-9ed5-80c32dd0d8e1",
   "metadata": {},
   "outputs": [],
   "source": [
    "# List of connections ids\n",
    "a = ids[:,0]\n",
    "b = ids[:,1]"
   ]
  },
  {
   "cell_type": "code",
   "execution_count": 5,
   "id": "68127396-08bc-4d0e-8e6e-0e2e8ad9bc3e",
   "metadata": {},
   "outputs": [
    {
     "data": {
      "application/vnd.jupyter.widget-view+json": {
       "model_id": "bfbafe28831a47b3b2222007852569ed",
       "version_major": 2,
       "version_minor": 0
      },
      "text/plain": [
       "  0%|          | 0/281465 [00:00<?, ?it/s]"
      ]
     },
     "metadata": {},
     "output_type": "display_data"
    },
    {
     "name": "stderr",
     "output_type": "stream",
     "text": [
      "<timed exec>:18: RuntimeWarning: invalid value encountered in double_scalars\n"
     ]
    },
    {
     "name": "stdout",
     "output_type": "stream",
     "text": [
      "CPU times: user 5min 5s, sys: 416 ms, total: 5min 5s\n",
      "Wall time: 5min 4s\n"
     ]
    }
   ],
   "source": [
    "%%time\n",
    "\n",
    "# Compute the number of connections and the average lenght\n",
    "ID = np.zeros(N_real, dtype=int)\n",
    "n_connections = np.zeros(N_real, dtype=int)\n",
    "connections   = np.zeros(N_real, dtype=object)\n",
    "av_length_connections = np.zeros(N_real, dtype=float)\n",
    "pseudo_density = np.zeros(N_real, dtype=float)\n",
    "\n",
    "distance_pairs =np.sum( (pos[a] - pos[b])**2, axis=1 )\n",
    "\n",
    "pbar = tqdm(total=N_real)\n",
    "for n in range(N_real):\n",
    "    kx = a[b==n]\n",
    "    ky = b[a==n]\n",
    "    \n",
    "    ID[n] = n\n",
    "    n_connections[n]         = len(kx)+len(ky)\n",
    "    connections[n]           = np.concatenate([kx,ky])\n",
    "    av_length_connections[n] = np.sum(distance_pairs[connections[n]])/n_connections[n]\n",
    "    \n",
    "    # Defining the Inertial tensor from\n",
    "\n",
    "    # TODO  remoe repeats\n",
    "    Ixx = np.sum( (pos[:,1][connections[n]] - pos[:,1][n])**2  + (pos[:,2][connections[n]] - pos[:,2][n])**2 )\n",
    "    Iyy = np.sum( (pos[:,2][connections[n]] - pos[:,2][n])**2  + (pos[:,0][connections[n]] - pos[:,0][n])**2 )\n",
    "    Izz = np.sum( (pos[:,0][connections[n]] - pos[:,0][n])**2  + (pos[:,1][connections[n]] - pos[:,1][n])**2 )\n",
    "    Ixy = np.sum( (pos[:,0][connections[n]] - pos[:,0][n])*(pos[:,1][connections[n]] - pos[:,1][n]) )  \n",
    "    Iyz = np.sum( (pos[:,1][connections[n]] - pos[:,1][n])*(pos[:,2][connections[n]] - pos[:,2][n]) )\n",
    "    Ixz = np.sum( (pos[:,0][connections[n]] - pos[:,0][n])*(pos[:,2][connections[n]] - pos[:,2][n]) )\n",
    "    \n",
    "    # Coumputing the Inertial tensor eigenvalues\n",
    "    A = np.array([[Ixx,Ixy,Ixz],[Ixy,Iyy,Iyz],[Ixz,Iyz,Izz]])\n",
    "    eigenvalues, eigenvectors= np.linalg.eig(A)\n",
    "    eigenvalues[(eigenvalues<=0)] = 0.0001\n",
    "    pseudo_density[n]           = np.log( 1/( np.sqrt(eigenvalues[0]).real * np.sqrt(eigenvalues[1]).real * np.sqrt(eigenvalues[2]).real  ) )\n",
    "    \n",
    "    pbar.update()"
   ]
  },
  {
   "cell_type": "code",
   "execution_count": 6,
   "id": "ca258bf5-987f-4104-9aaa-cd5763cec0a6",
   "metadata": {},
   "outputs": [
    {
     "data": {
      "image/png": "[encoded data removed]",
      "text/plain": [
       "<Figure size 576x576 with 3 Axes>"
      ]
     },
     "metadata": {
      "needs_background": "light"
     },
     "output_type": "display_data"
    }
   ],
   "source": [
    "fig = plt.figure(figsize=(8,8))\n",
    "\n",
    "plt.subplot(3,2,1)\n",
    "_ = plt.hist(av_length_connections)\n",
    "plt.subplot(3,2,2)\n",
    "_ = plt.hist(n_connections)\n",
    "plt.subplot(3,2,3)\n",
    "_ = plt.hist(pseudo_density)\n",
    "\n",
    "plt.show()"
   ]
  },
  {
   "cell_type": "code",
   "execution_count": 7,
   "id": "85dbccbd-2922-48a4-b908-5a7bffd2df3d",
   "metadata": {},
   "outputs": [
    {
     "data": {
      "text/plain": [
       "array([0, 0, 0, ..., 0, 0, 0])"
      ]
     },
     "execution_count": 7,
     "metadata": {},
     "output_type": "execute_result"
    }
   ],
   "source": [
    "n_connections[pseudo_density>10]"
   ]
  },
  {
   "cell_type": "code",
   "execution_count": 8,
   "id": "9a56ae0a-2cc5-44dd-931a-4f1010b852c6",
   "metadata": {},
   "outputs": [],
   "source": [
    "import src.bsk as bsk"
   ]
  },
  {
   "cell_type": "code",
   "execution_count": 9,
   "id": "4a960df4-c3e0-40cd-8487-c0e4a5ea1cef",
   "metadata": {},
   "outputs": [
    {
     "name": "stderr",
     "output_type": "stream",
     "text": [
      "/pscratch/sd/j/jfsuarez/CWCLASS/src/bsk.py:18: VisibleDeprecationWarning: Creating an ndarray from ragged nested sequences (which is a list-or-tuple of lists-or-tuples-or ndarrays with different lengths or shapes) is deprecated. If you meant to do this, you must specify 'dtype=object' when creating the ndarray.\n",
      "  return ID.astype(int),Nc.astype(int),np.array(Connections)\n"
     ]
    },
    {
     "name": "stdout",
     "output_type": "stream",
     "text": [
      "CPU times: user 4min 46s, sys: 304 ms, total: 4min 47s\n",
      "Wall time: 4min 47s\n"
     ]
    }
   ],
   "source": [
    "%%time\n",
    "\n",
    "Max = len(pos)\n",
    "\n",
    "ids, nc, con = bsk.NumberConnections(Max,a,b)\n",
    "ad, vol, den = bsk.Features(Max,ID,pos[:,0],pos[:,1],pos[:,2],nc,con)"
   ]
  },
  {
   "cell_type": "code",
   "execution_count": 10,
   "id": "33afedbb-4d5c-46b8-a0d9-ee8a6a92e4dd",
   "metadata": {},
   "outputs": [
    {
     "data": {
      "image/png": "[encoded data removed]",
      "text/plain": [
       "<Figure size 576x576 with 3 Axes>"
      ]
     },
     "metadata": {
      "needs_background": "light"
     },
     "output_type": "display_data"
    }
   ],
   "source": [
    "fig = plt.figure(figsize=(8,8))\n",
    "\n",
    "plt.subplot(3,2,1)\n",
    "_ = plt.hist(ad)\n",
    "plt.subplot(3,2,2)\n",
    "_ = plt.hist(nc)\n",
    "plt.subplot(3,2,3)\n",
    "_ = plt.hist(den)\n",
    "\n",
    "plt.show()"
   ]
  },
  {
   "cell_type": "code",
   "execution_count": 22,
   "id": "dcd1f66d-dd93-4ebf-8006-404df1e54dc5",
   "metadata": {},
   "outputs": [
    {
     "data": {
      "text/plain": [
       "<KeysViewHDF5 ['Header', 'Snapshot_95', 'Snapshot_99']>"
      ]
     },
     "execution_count": 22,
     "metadata": {},
     "output_type": "execute_result"
    }
   ],
   "source": [
    "import h5py\n",
    "import pandas as pd\n",
    "f = h5py.File('../data/TNG100-1/Subhalos_Features/morphologies_deeplearn.hdf5','r')\n",
    "f.keys()"
   ]
  },
  {
   "cell_type": "code",
   "execution_count": 14,
   "id": "9c90b503-a4e7-4771-a7d5-966989ead15e",
   "metadata": {},
   "outputs": [
    {
     "data": {
      "text/plain": [
       "<KeysViewHDF5 ['P_Late', 'P_S0', 'P_Sab', 'Sigma_Late', 'Sigma_S0', 'Sigma_Sab', 'SubhaloID']>"
      ]
     },
     "execution_count": 14,
     "metadata": {},
     "output_type": "execute_result"
    }
   ],
   "source": [
    "f['Snapshot_99'].keys()"
   ]
  },
  {
   "cell_type": "code",
   "execution_count": 31,
   "id": "cd3920a2-89cf-4804-9519-3463cd0adf95",
   "metadata": {},
   "outputs": [
    {
     "data": {
      "text/plain": [
       "array([     0,      1,      2, ..., 727485, 738596, 752194])"
      ]
     },
     "execution_count": 31,
     "metadata": {},
     "output_type": "execute_result"
    }
   ],
   "source": [
    "morphologies_ids = f['Snapshot_99']['SubhaloID'][:]\n",
    "morphologies_ids"
   ]
  },
  {
   "cell_type": "code",
   "execution_count": 32,
   "id": "9ac34eb5-041d-4446-be3d-a9a3654241b4",
   "metadata": {},
   "outputs": [],
   "source": [
    "P_Late = f['Snapshot_99']['P_Late'][:]\n",
    "P_S0 = f['Snapshot_99']['P_S0'][:]\n",
    "P_Sab = f['Snapshot_99']['P_Sab'][:]\n",
    "Sigma_Late = f['Snapshot_99']['Sigma_Late'][:]\n",
    "Sigma_S0 = f['Snapshot_99']['Sigma_S0'][:]\n",
    "Sigma_Sab = f['Snapshot_99']['Sigma_Sab'][:]"
   ]
  },
  {
   "cell_type": "code",
   "execution_count": 33,
   "id": "56ed3818-fffa-4b4d-a55f-40be5bd4ba70",
   "metadata": {},
   "outputs": [
    {
     "data": {
      "text/html": [
       "<div>\n",
       "<style scoped>\n",
       "    .dataframe tbody tr th:only-of-type {\n",
       "        vertical-align: middle;\n",
       "    }\n",
       "\n",
       "    .dataframe tbody tr th {\n",
       "        vertical-align: top;\n",
       "    }\n",
       "\n",
       "    .dataframe thead th {\n",
       "        text-align: right;\n",
       "    }\n",
       "</style>\n",
       "<table border=\"1\" class=\"dataframe\">\n",
       "  <thead>\n",
       "    <tr style=\"text-align: right;\">\n",
       "      <th></th>\n",
       "      <th>ID</th>\n",
       "      <th>P_Late</th>\n",
       "      <th>P_S0</th>\n",
       "      <th>P_Sab</th>\n",
       "      <th>Sigma_Late</th>\n",
       "      <th>Sigma_S0</th>\n",
       "      <th>Sigma_Sab</th>\n",
       "    </tr>\n",
       "  </thead>\n",
       "  <tbody>\n",
       "    <tr>\n",
       "      <th>0</th>\n",
       "      <td>0.0</td>\n",
       "      <td>0.285813</td>\n",
       "      <td>0.581463</td>\n",
       "      <td>0.082351</td>\n",
       "      <td>0.082305</td>\n",
       "      <td>0.092707</td>\n",
       "      <td>0.054884</td>\n",
       "    </tr>\n",
       "    <tr>\n",
       "      <th>1</th>\n",
       "      <td>1.0</td>\n",
       "      <td>0.817303</td>\n",
       "      <td>0.041749</td>\n",
       "      <td>0.451029</td>\n",
       "      <td>0.043357</td>\n",
       "      <td>0.120770</td>\n",
       "      <td>0.033309</td>\n",
       "    </tr>\n",
       "    <tr>\n",
       "      <th>2</th>\n",
       "      <td>2.0</td>\n",
       "      <td>0.941455</td>\n",
       "      <td>0.156638</td>\n",
       "      <td>0.207392</td>\n",
       "      <td>0.041355</td>\n",
       "      <td>0.096414</td>\n",
       "      <td>0.057522</td>\n",
       "    </tr>\n",
       "    <tr>\n",
       "      <th>3</th>\n",
       "      <td>3.0</td>\n",
       "      <td>0.998825</td>\n",
       "      <td>0.015455</td>\n",
       "      <td>0.966695</td>\n",
       "      <td>0.004879</td>\n",
       "      <td>0.091223</td>\n",
       "      <td>0.043624</td>\n",
       "    </tr>\n",
       "    <tr>\n",
       "      <th>4</th>\n",
       "      <td>4.0</td>\n",
       "      <td>0.113466</td>\n",
       "      <td>0.022465</td>\n",
       "      <td>0.154358</td>\n",
       "      <td>0.067582</td>\n",
       "      <td>0.081769</td>\n",
       "      <td>0.058225</td>\n",
       "    </tr>\n",
       "    <tr>\n",
       "      <th>...</th>\n",
       "      <td>...</td>\n",
       "      <td>...</td>\n",
       "      <td>...</td>\n",
       "      <td>...</td>\n",
       "      <td>...</td>\n",
       "      <td>...</td>\n",
       "      <td>...</td>\n",
       "    </tr>\n",
       "    <tr>\n",
       "      <th>12530</th>\n",
       "      <td>704187.0</td>\n",
       "      <td>0.411240</td>\n",
       "      <td>0.743416</td>\n",
       "      <td>0.816058</td>\n",
       "      <td>0.053598</td>\n",
       "      <td>0.054836</td>\n",
       "      <td>0.068055</td>\n",
       "    </tr>\n",
       "    <tr>\n",
       "      <th>12531</th>\n",
       "      <td>719337.0</td>\n",
       "      <td>0.607696</td>\n",
       "      <td>0.462376</td>\n",
       "      <td>0.816769</td>\n",
       "      <td>0.060273</td>\n",
       "      <td>0.068407</td>\n",
       "      <td>0.065860</td>\n",
       "    </tr>\n",
       "    <tr>\n",
       "      <th>12532</th>\n",
       "      <td>727485.0</td>\n",
       "      <td>0.475961</td>\n",
       "      <td>0.713853</td>\n",
       "      <td>0.532344</td>\n",
       "      <td>0.034700</td>\n",
       "      <td>0.065286</td>\n",
       "      <td>0.088331</td>\n",
       "    </tr>\n",
       "    <tr>\n",
       "      <th>12533</th>\n",
       "      <td>738596.0</td>\n",
       "      <td>0.542526</td>\n",
       "      <td>0.795973</td>\n",
       "      <td>0.841702</td>\n",
       "      <td>0.037093</td>\n",
       "      <td>0.066633</td>\n",
       "      <td>0.024570</td>\n",
       "    </tr>\n",
       "    <tr>\n",
       "      <th>12534</th>\n",
       "      <td>752194.0</td>\n",
       "      <td>0.777810</td>\n",
       "      <td>0.763071</td>\n",
       "      <td>0.716050</td>\n",
       "      <td>0.019670</td>\n",
       "      <td>0.090255</td>\n",
       "      <td>0.106177</td>\n",
       "    </tr>\n",
       "  </tbody>\n",
       "</table>\n",
       "<p>12535 rows × 7 columns</p>\n",
       "</div>"
      ],
      "text/plain": [
       "             ID    P_Late      P_S0     P_Sab  Sigma_Late  Sigma_S0  Sigma_Sab\n",
       "0           0.0  0.285813  0.581463  0.082351    0.082305  0.092707   0.054884\n",
       "1           1.0  0.817303  0.041749  0.451029    0.043357  0.120770   0.033309\n",
       "2           2.0  0.941455  0.156638  0.207392    0.041355  0.096414   0.057522\n",
       "3           3.0  0.998825  0.015455  0.966695    0.004879  0.091223   0.043624\n",
       "4           4.0  0.113466  0.022465  0.154358    0.067582  0.081769   0.058225\n",
       "...         ...       ...       ...       ...         ...       ...        ...\n",
       "12530  704187.0  0.411240  0.743416  0.816058    0.053598  0.054836   0.068055\n",
       "12531  719337.0  0.607696  0.462376  0.816769    0.060273  0.068407   0.065860\n",
       "12532  727485.0  0.475961  0.713853  0.532344    0.034700  0.065286   0.088331\n",
       "12533  738596.0  0.542526  0.795973  0.841702    0.037093  0.066633   0.024570\n",
       "12534  752194.0  0.777810  0.763071  0.716050    0.019670  0.090255   0.106177\n",
       "\n",
       "[12535 rows x 7 columns]"
      ]
     },
     "execution_count": 33,
     "metadata": {},
     "output_type": "execute_result"
    }
   ],
   "source": [
    "morphologies_df = pd.DataFrame( np.c_[morphologies_ids, P_Late, P_S0, P_Sab, Sigma_Late, Sigma_S0, Sigma_Sab], columns=['ID','P_Late','P_S0','P_Sab','Sigma_Late','Sigma_S0','Sigma_Sab'] )\n",
    "morphologies_df = morphologies_df.dropna()\n",
    "morphologies_df"
   ]
  },
  {
   "cell_type": "code",
   "execution_count": null,
   "id": "dbe3cf94-9044-4552-9092-d202f941fa8b",
   "metadata": {},
   "outputs": [],
   "source": []
  },
  {
   "cell_type": "code",
   "execution_count": null,
   "id": "f492f74b-0a65-4aab-9de1-47e36aa9488b",
   "metadata": {},
   "outputs": [],
   "source": []
  }
 ],
 "metadata": {
  "kernelspec": {
   "display_name": "DESI master",
   "language": "python",
   "name": "desi-master"
  },
  "language_info": {
   "codemirror_mode": {
    "name": "ipython",
    "version": 3
   },
   "file_extension": ".py",
   "mimetype": "text/x-python",
   "name": "python",
   "nbconvert_exporter": "python",
   "pygments_lexer": "ipython3",
   "version": "3.9.7"
  }
 },
 "nbformat": 4,
 "nbformat_minor": 5
}
